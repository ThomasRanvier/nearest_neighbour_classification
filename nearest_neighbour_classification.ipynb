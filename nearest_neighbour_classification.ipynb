{
 "cells": [
  {
   "cell_type": "markdown",
   "metadata": {},
   "source": [
    "# Nearest neighbour for handwritten digit recognition"
   ]
  },
  {
   "cell_type": "markdown",
   "metadata": {},
   "source": [
    "In this notebook I am implementing a nearest neighbour classification system in the goal to recognise handwritten digits.\n",
    "\n",
    "I will first implement an algorithm myself, and then I will use pre-existing methods to compare their efficiency.\n",
    "\n",
    "To do so I will use a part of the MNIST dataset."
   ]
  },
  {
   "cell_type": "markdown",
   "metadata": {},
   "source": [
    "## 1. Preparing datas\n",
    "\n",
    "First I need to prepare the datas I will work on. I will use a part of the MNIST dataset : a training set of 7500 examples (instead of 60000) and a test set of 1000 (instead of 10000). \n",
    "\n",
    "The two samples contain the same number of each digit.\n",
    "\n",
    "I'm using only a part of the dataset because de nearest neighbour classification isn't a very efficient system."
   ]
  },
  {
   "cell_type": "code",
   "execution_count": 1,
   "metadata": {},
   "outputs": [],
   "source": [
    "%matplotlib inline\n",
    "import numpy as np\n",
    "import matplotlib.pyplot as plt\n",
    "import time\n",
    "\n",
    "# Load the training set\n",
    "train_data = np.load('MNIST/train_data.npy')\n",
    "train_labels = np.load('MNIST/train_labels.npy')\n",
    "\n",
    "# Load the testing set\n",
    "test_data = np.load('MNIST/test_data.npy')\n",
    "test_labels = np.load('MNIST/test_labels.npy')"
   ]
  },
  {
   "cell_type": "code",
   "execution_count": 2,
   "metadata": {},
   "outputs": [
    {
     "name": "stdout",
     "output_type": "stream",
     "text": [
      "Training set distribution:\n",
      "{0: 750, 1: 750, 2: 750, 3: 750, 4: 750, 5: 750, 6: 750, 7: 750, 8: 750, 9: 750}\n",
      "Test set distribution:\n",
      "{0: 100, 1: 100, 2: 100, 3: 100, 4: 100, 5: 100, 6: 100, 7: 100, 8: 100, 9: 100}\n"
     ]
    }
   ],
   "source": [
    "# Compute the number of examples of each digit\n",
    "train_digits, train_counts = np.unique(train_labels, return_counts=True)\n",
    "print(\"Training set distribution:\")\n",
    "print(dict(zip(train_digits, train_counts)))\n",
    "\n",
    "test_digits, test_counts = np.unique(test_labels, return_counts=True)\n",
    "print(\"Test set distribution:\")\n",
    "print(dict(zip(test_digits, test_counts)))"
   ]
  },
  {
   "cell_type": "markdown",
   "metadata": {},
   "source": [
    "2 methods that will allow me to visualize the digits and show their labels"
   ]
  },
  {
   "cell_type": "code",
   "execution_count": 3,
   "metadata": {},
   "outputs": [
    {
     "data": {
      "image/png": "[encoded data removed]",
      "text/plain": [
       "<Figure size 432x288 with 1 Axes>"
      ]
     },
     "metadata": {},
     "output_type": "display_data"
    },
    {
     "name": "stdout",
     "output_type": "stream",
     "text": [
      "Label : 9\n"
     ]
    },
    {
     "data": {
      "image/png": "[encoded data removed]",
      "text/plain": [
       "<Figure size 432x288 with 1 Axes>"
      ]
     },
     "metadata": {},
     "output_type": "display_data"
    },
    {
     "name": "stdout",
     "output_type": "stream",
     "text": [
      "Label : 0\n"
     ]
    }
   ],
   "source": [
    "def show_digit(x):\n",
    "    plt.axis('off')\n",
    "    plt.imshow(x.reshape((28,28)), cmap=plt.cm.gray)\n",
    "    plt.show()\n",
    "\n",
    "def vis_image(index, dataset='train'):\n",
    "    if(dataset=='train'):\n",
    "        show_digit(train_data[index])\n",
    "        label = train_labels[index]\n",
    "    else:\n",
    "        show_digit(test_data[index])\n",
    "        label = test_labels[index]\n",
    "    print(\"Label : \" + str(label))\n",
    "\n",
    "## View the first data point in the training set\n",
    "vis_image(0, \"train\")\n",
    "\n",
    "## Now view the first data point in the test set\n",
    "vis_image(0, \"test\")"
   ]
  },
  {
   "cell_type": "markdown",
   "metadata": {},
   "source": [
    "## 2. Implemetation\n",
    "\n",
    "Now that I have a simple access to the datas and that I can visualize what I want I can begin the implementation of a brute force nearest neighbour classification.\n",
    "\n",
    "I will implement two brute force algorithms, the first using a L2 distance function and the second using a L1 distance function. The results should be slightly different."
   ]
  },
  {
   "cell_type": "markdown",
   "metadata": {},
   "source": [
    "### 2.1. Generic functions"
   ]
  },
  {
   "cell_type": "code",
   "execution_count": 4,
   "metadata": {},
   "outputs": [],
   "source": [
    "# The function that find the nearest neighbour given a distance function\n",
    "def find_nn(x, dist_fun):\n",
    "    distances = [dist_fun(x,train_data[i]) for i in range(len(train_labels))]\n",
    "    return np.argmin(distances)\n",
    "\n",
    "# The function that returns the guessed label given a distance function\n",
    "def nn_classifier(x, dist_fun):\n",
    "    index = find_nn(x, dist_fun)\n",
    "    return train_labels[index]\n",
    "\n",
    "# The function that returns an array of all the predicted values given a distance function\n",
    "def nn(dist_fun):\n",
    "    predicted_values = np.array([nn_classifier(test_data[i], dist_fun) for i in range(len(test_labels))])\n",
    "    return predicted_values"
   ]
  },
  {
   "cell_type": "markdown",
   "metadata": {},
   "source": [
    "### 2.2. Euclidean distance (L2)"
   ]
  },
  {
   "cell_type": "code",
   "execution_count": 5,
   "metadata": {},
   "outputs": [],
   "source": [
    "# The L2 distance function\n",
    "def square_l2_dist(x,y):\n",
    "    return np.sum(np.square(x-y))"
   ]
  },
  {
   "cell_type": "markdown",
   "metadata": {},
   "source": [
    "Test of the L2 nearest neighbour classification"
   ]
  },
  {
   "cell_type": "code",
   "execution_count": 6,
   "metadata": {},
   "outputs": [
    {
     "name": "stdout",
     "output_type": "stream",
     "text": [
      "Error of L2 nearest neighbor classifier :  0.046\n",
      "Classification time :  46.23720693588257\n"
     ]
    }
   ],
   "source": [
    "# Predict on each test data point and timer\n",
    "t_before = time.time()\n",
    "test_predictions_l2 = nn(square_l2_dist)\n",
    "t_after = time.time()\n",
    "\n",
    "# Compute the error\n",
    "err_positions = np.not_equal(test_predictions_l2, test_labels)\n",
    "error = float(np.sum(err_positions))/len(test_labels)\n",
    "\n",
    "print('Error of L2 nearest neighbor classifier : ', error)\n",
    "print('Classification time : ', t_after - t_before)"
   ]
  },
  {
   "cell_type": "markdown",
   "metadata": {},
   "source": [
    "As we can see here, the error rate is 4.6% using an euclidean distance, it's a pretty good result as this classification method is extremely simple."
   ]
  },
  {
   "cell_type": "markdown",
   "metadata": {},
   "source": [
    "### 2.3. Taxicab distance (L1)"
   ]
  },
  {
   "cell_type": "code",
   "execution_count": 7,
   "metadata": {},
   "outputs": [],
   "source": [
    "# The L1 distance function\n",
    "def square_l1_dist(x,y):\n",
    "    return np.sum(np.abs(x-y))"
   ]
  },
  {
   "cell_type": "code",
   "execution_count": 8,
   "metadata": {},
   "outputs": [
    {
     "name": "stdout",
     "output_type": "stream",
     "text": [
      "Error of L1 nearest neighbor classifier :  0.056\n",
      "Classification time :  42.40626907348633\n"
     ]
    }
   ],
   "source": [
    "# Predict on each test data point and timer\n",
    "t_before = time.time()\n",
    "test_predictions_l1 = nn(square_l1_dist)\n",
    "t_after = time.time()\n",
    "\n",
    "# Compute the error\n",
    "err_positions = np.not_equal(test_predictions_l1, test_labels)\n",
    "error = float(np.sum(err_positions))/len(test_labels)\n",
    "\n",
    "print('Error of L1 nearest neighbor classifier : ', error)\n",
    "print('Classification time : ', t_after - t_before)"
   ]
  },
  {
   "cell_type": "markdown",
   "metadata": {},
   "source": [
    "The error rate is 5.6% using a taxicab distance, it's slightly less precise than with a L2 distance but the classification time is little bit lower."
   ]
  },
  {
   "cell_type": "markdown",
   "metadata": {},
   "source": [
    "## 3. Comparaison with better functions"
   ]
  },
  {
   "cell_type": "markdown",
   "metadata": {},
   "source": [
    "### 3.1. BallTree method"
   ]
  },
  {
   "cell_type": "code",
   "execution_count": 9,
   "metadata": {},
   "outputs": [
    {
     "name": "stdout",
     "output_type": "stream",
     "text": [
      "Time to build data structure :  0.4631025791168213\n",
      "Time to classify test set :  8.949438095092773\n",
      "Ball tree produces same predictions as L2 ?  True\n"
     ]
    }
   ],
   "source": [
    "from sklearn.neighbors import BallTree\n",
    "\n",
    "# Build nearest neighbor structure on training data\n",
    "t_before = time.time()\n",
    "ball_tree = BallTree(train_data)\n",
    "t_after = time.time()\n",
    "\n",
    "print(\"Time to build data structure : \", t_after - t_before)\n",
    "\n",
    "# Get nearest neighbor predictions on testing data\n",
    "t_before = time.time()\n",
    "test_neighbors = np.squeeze(ball_tree.query(test_data, k=1, return_distance=False))\n",
    "ball_tree_predictions = train_labels[test_neighbors]\n",
    "t_after = time.time()\n",
    "\n",
    "print(\"Time to classify test set : \", t_after - t_before)\n",
    "\n",
    "print(\"Ball tree produces same predictions as L2 ? \", np.array_equal(test_predictions_l2,ball_tree_predictions))"
   ]
  },
  {
   "cell_type": "code",
   "execution_count": 10,
   "metadata": {},
   "outputs": [
    {
     "name": "stdout",
     "output_type": "stream",
     "text": [
      "Time to build data structure :  0.4234342575073242\n",
      "Time to classify test set :  10.94090747833252\n",
      "KD tree produces same predictions as L2 ?  True\n"
     ]
    }
   ],
   "source": [
    "from sklearn.neighbors import KDTree\n",
    "\n",
    "# Build nearest neighbor structure on training data\n",
    "t_before = time.time()\n",
    "kd_tree = KDTree(train_data)\n",
    "t_after = time.time()\n",
    "\n",
    "print(\"Time to build data structure : \", t_after - t_before)\n",
    "\n",
    "# Get nearest neighbor predictions on testing data\n",
    "t_before = time.time()\n",
    "test_neighbors = np.squeeze(kd_tree.query(test_data, k=1, return_distance=False))\n",
    "kd_tree_predictions = train_labels[test_neighbors]\n",
    "t_after = time.time()\n",
    "\n",
    "print(\"Time to classify test set : \", t_after - t_before)\n",
    "\n",
    "print(\"KD tree produces same predictions as L2 ? \", np.array_equal(test_predictions_l2,kd_tree_predictions))"
   ]
  },
  {
   "cell_type": "markdown",
   "metadata": {},
   "source": [
    "As we can see above those two methods are way more efficient than a brute force algorithm, but the results are\n",
    "the same because those two methods are using a L2 function too."
   ]
  }
 ],
 "metadata": {
  "kernelspec": {
   "display_name": "Python 3",
   "language": "python",
   "name": "python3"
  },
  "language_info": {
   "codemirror_mode": {
    "name": "ipython",
    "version": 3
   },
   "file_extension": ".py",
   "mimetype": "text/x-python",
   "name": "python",
   "nbconvert_exporter": "python",
   "pygments_lexer": "ipython3",
   "version": "3.5.2"
  }
 },
 "nbformat": 4,
 "nbformat_minor": 2
}
